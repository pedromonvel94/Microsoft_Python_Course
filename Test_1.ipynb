{
 "cells": [
  {
   "cell_type": "code",
   "execution_count": 10,
   "id": "a9c5bbfc-4821-4467-b8c3-d721c9ec9c5a",
   "metadata": {},
   "outputs": [
    {
     "name": "stdout",
     "output_type": "stream",
     "text": [
      "En la posicion: 1 encontramos: Hola, Python!\n",
      "En la posicion: 2 encontramos: 2\n",
      "En la posicion: 3 encontramos: 3.14\n",
      "En la posicion: 4 encontramos: True\n",
      "En la posicion: 5 encontramos: None\n"
     ]
    }
   ],
   "source": [
    "saludo = [\"Hola, Python!\", 2, 3.14, True, None]\n",
    "\n",
    "for i in range(len(saludo)):\n",
    "    print(\"En la posicion: \" + str(i+1) + \" encontramos: \" + str(saludo[i]))\n"
   ]
  },
  {
   "cell_type": "code",
   "execution_count": 5,
   "id": "1d6ab8fd-70b2-46a1-b51c-ef8a9a54dd59",
   "metadata": {},
   "outputs": [
    {
     "name": "stdout",
     "output_type": "stream",
     "text": [
      "The first result is: 4.285714285714286.\n"
     ]
    }
   ],
   "source": [
    "first_result = ((12/7) * 5)/2\n",
    "print(\"The first result is: \" + str(first_result) + \".\")"
   ]
  },
  {
   "cell_type": "code",
   "execution_count": null,
   "id": "a48dd627-6add-4924-9408-4167c0c12fbd",
   "metadata": {},
   "outputs": [],
   "source": []
  }
 ],
 "metadata": {
  "kernelspec": {
   "display_name": "base",
   "language": "python",
   "name": "python3"
  },
  "language_info": {
   "codemirror_mode": {
    "name": "ipython",
    "version": 3
   },
   "file_extension": ".py",
   "mimetype": "text/x-python",
   "name": "python",
   "nbconvert_exporter": "python",
   "pygments_lexer": "ipython3",
   "version": "3.12.11"
  }
 },
 "nbformat": 4,
 "nbformat_minor": 5
}
